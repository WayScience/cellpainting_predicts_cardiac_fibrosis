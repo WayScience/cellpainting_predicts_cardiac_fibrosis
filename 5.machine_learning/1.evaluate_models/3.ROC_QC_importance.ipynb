{
 "cells": [
  {
   "cell_type": "markdown",
   "metadata": {},
   "source": [
    "## Perform bootstrapping ROC AUC method to determine if performing QC within our pipelines is important and improves performance \n",
    "\n",
    "In this method, we have trained two models; one with QC'd data and the other without QC'd data (more noise). \n",
    "We apply the models to their respective holdout dataset (e.g., QC'd model applied to QC'd data and no-QC model applied to no QC dataset).\n",
    "We use bootstrapping, a method that repeatedly samples the dataset with replacement to create random subsets of the same size, where some cells might be duplicated or excluded, simulating variations in the population.\n",
    "We calculate the ROC AUC for each subsample and plot as a histogram.\n",
    "\n",
    "Our goal is to evaluate if QC is important enough to perform within our workflows where we see a higher performance in classification than if we performed no QC at all."
   ]
  },
  {
   "cell_type": "markdown",
   "metadata": {},
   "source": [
    "## Import libraries"
   ]
  },
  {
   "cell_type": "code",
   "execution_count": 1,
   "metadata": {},
   "outputs": [],
   "source": [
    "import pathlib\n",
    "import joblib\n",
    "from joblib import load\n",
    "import numpy as np\n",
    "import pandas as pd\n",
    "import matplotlib.pyplot as plt\n",
    "from sklearn.metrics import roc_auc_score\n",
    "from sklearn.utils import resample\n",
    "import matplotlib.colors as mcolors\n",
    "from scipy.stats import ttest_ind\n",
    "\n",
    "import sys\n",
    "\n",
    "sys.path.append(\"../../utils\")\n",
    "from training_utils import get_X_y_data\n",
    "from roc_auc_utils import bootstrap_roc_auc"
   ]
  },
  {
   "cell_type": "markdown",
   "metadata": {},
   "source": [
    "## Path for figure"
   ]
  },
  {
   "cell_type": "code",
   "execution_count": 2,
   "metadata": {},
   "outputs": [],
   "source": [
    "figure_path = pathlib.Path(\"./figures/roc_auc_plots\")\n",
    "# make directory if it doesn't already exist\n",
    "figure_path.mkdir(exist_ok=True)"
   ]
  },
  {
   "cell_type": "markdown",
   "metadata": {},
   "source": [
    "## Load in encoder"
   ]
  },
  {
   "cell_type": "code",
   "execution_count": 3,
   "metadata": {},
   "outputs": [],
   "source": [
    "# load in label encoder\n",
    "le = load(\n",
    "    pathlib.Path(\n",
    "        \"../0.train_logistic_regression/encoder_results/label_encoder_log_reg_fs_plate_4.joblib\"\n",
    "    )\n",
    ")"
   ]
  },
  {
   "cell_type": "markdown",
   "metadata": {},
   "source": [
    "## Load in non-QC model and no QC dataset"
   ]
  },
  {
   "cell_type": "code",
   "execution_count": 4,
   "metadata": {},
   "outputs": [],
   "source": [
    "# Load the trained model\n",
    "no_QC_model = joblib.load(\n",
    "    pathlib.Path(\n",
    "        \"../0.train_logistic_regression/models/no_QC_models/log_reg_fs_plate_4_final_downsample_no_QC.joblib\"\n",
    "    )\n",
    ")\n",
    "\n",
    "# Load the feature-selected QC plate 4 (ensure it includes both features and labels)\n",
    "plate_4_no_QC = pd.read_parquet(\n",
    "    pathlib.Path(\n",
    "        \"../../3.process_cfret_features/data/single_cell_profiles/localhost231120090001_sc_feature_selected_no_QC.parquet\"\n",
    "    )\n",
    ")\n",
    "\n",
    "# Filter the test_data to only include rows where:\n",
    "# - Metadata_heart_number == 7 and Metadata_treatment == \"DMSO\"\n",
    "# - OR Metadata_heart_number == 29\n",
    "holdout_no_QC_data = plate_4_no_QC[\n",
    "    (\n",
    "        (plate_4_no_QC[\"Metadata_heart_number\"] == 7)\n",
    "        & (plate_4_no_QC[\"Metadata_treatment\"] == \"DMSO\")\n",
    "    )\n",
    "    | (plate_4_no_QC[\"Metadata_heart_number\"] == 29)\n",
    "]\n",
    "\n",
    "# Load in X and y data from dataset\n",
    "X, y = get_X_y_data(df=holdout_no_QC_data, label=\"Metadata_cell_type\")\n",
    "\n",
    "# Assign y classes to correct binary using label encoder results\n",
    "y_binary_no_QC = le.transform(y)\n",
    "\n",
    "# Predict probabilities for the positive class\n",
    "y_probs_modelNoQC = no_QC_model.predict_proba(X)[:, 1]"
   ]
  },
  {
   "cell_type": "markdown",
   "metadata": {},
   "source": [
    "## Load in QC model and QC data"
   ]
  },
  {
   "cell_type": "markdown",
   "metadata": {},
   "source": [
    "### Extract probabilities from the QC'd data using the QC model"
   ]
  },
  {
   "cell_type": "code",
   "execution_count": 5,
   "metadata": {},
   "outputs": [],
   "source": [
    "# Load the trained model\n",
    "QC_model = joblib.load(\n",
    "    pathlib.Path(\n",
    "        \"../0.train_logistic_regression/models/log_reg_fs_plate_4_final_downsample.joblib\"\n",
    "    )\n",
    ")\n",
    "\n",
    "# Load the feature-selected QC plate 4 (ensure it includes both features and labels)\n",
    "plate_4_QC = pd.read_parquet(\n",
    "    pathlib.Path(\n",
    "        \"../../3.process_cfret_features/data/single_cell_profiles/localhost231120090001_sc_feature_selected.parquet\"\n",
    "    )\n",
    ")\n",
    "\n",
    "# Filter the test_data to only include rows where:\n",
    "# - Metadata_heart_number == 7 and Metadata_treatment == \"DMSO\"\n",
    "# - OR Metadata_heart_number == 29\n",
    "holdout_QC_data = plate_4_QC[\n",
    "    (\n",
    "        (plate_4_QC[\"Metadata_heart_number\"] == 7)\n",
    "        & (plate_4_QC[\"Metadata_treatment\"] == \"DMSO\")\n",
    "    )\n",
    "    | (plate_4_QC[\"Metadata_heart_number\"] == 29)\n",
    "]\n",
    "\n",
    "# Load in X and y data from dataset\n",
    "X, y = get_X_y_data(df=holdout_QC_data, label=\"Metadata_cell_type\")\n",
    "\n",
    "# Assign y classes to correct binary using label encoder results\n",
    "y_binary_QC = le.transform(y)\n",
    "\n",
    "# Predict probabilities for the positive class\n",
    "y_probs_modelQC = QC_model.predict_proba(X)[:, 1]"
   ]
  },
  {
   "cell_type": "markdown",
   "metadata": {},
   "source": [
    "## Calculate the ROC AUC score from applying the respective holdout datasets to each model"
   ]
  },
  {
   "cell_type": "code",
   "execution_count": 6,
   "metadata": {},
   "outputs": [
    {
     "name": "stdout",
     "output_type": "stream",
     "text": [
      "AUC Model 1: 0.9053365172047568\n",
      "AUC Model 2: 0.9288569897636957\n"
     ]
    }
   ],
   "source": [
    "# Calculate ROC AUC\n",
    "aucNoQC = roc_auc_score(y_binary_no_QC, y_probs_modelNoQC)\n",
    "aucQC = roc_auc_score(y_binary_QC, y_probs_modelQC)\n",
    "\n",
    "print(f\"AUC Model 1: {aucNoQC}\")\n",
    "print(f\"AUC Model 2: {aucQC}\")"
   ]
  },
  {
   "cell_type": "markdown",
   "metadata": {},
   "source": [
    "## Apply bootstrap ROC function and perform a t-test to determine significant difference between distributions"
   ]
  },
  {
   "cell_type": "code",
   "execution_count": 7,
   "metadata": {},
   "outputs": [
    {
     "name": "stdout",
     "output_type": "stream",
     "text": [
      "T-statistic: -103.65415669001037, P-value: 0.0\n"
     ]
    }
   ],
   "source": [
    "# No QC model\n",
    "scores_model1 = bootstrap_roc_auc(y_binary_no_QC, y_probs_modelNoQC)\n",
    "\n",
    "# QC model\n",
    "scores_model2 = bootstrap_roc_auc(y_binary_QC, y_probs_modelQC)\n",
    "\n",
    "# Compare distributions\n",
    "t_stat, p_value = ttest_ind(scores_model1, scores_model2)\n",
    "print(f\"T-statistic: {t_stat}, P-value: {p_value}\")"
   ]
  },
  {
   "cell_type": "code",
   "execution_count": 8,
   "metadata": {},
   "outputs": [
    {
     "name": "stdout",
     "output_type": "stream",
     "text": [
      "Mean ROC AUC for Model No-QC: 0.9052309223453695\n",
      "Mean ROC AUC for Model QC: 0.9286980267529561\n"
     ]
    }
   ],
   "source": [
    "print(f\"Mean ROC AUC for Model No-QC: {np.mean(scores_model1)}\")\n",
    "print(f\"Mean ROC AUC for Model QC: {np.mean(scores_model2)}\")"
   ]
  },
  {
   "cell_type": "markdown",
   "metadata": {},
   "source": [
    "## Create histogram plot with the AUC ROC bootstrap distributions"
   ]
  },
  {
   "cell_type": "code",
   "execution_count": 9,
   "metadata": {},
   "outputs": [
    {
     "data": {
      "image/png": "[encoded data removed]",
      "text/plain": [
       "<Figure size 640x480 with 1 Axes>"
      ]
     },
     "metadata": {},
     "output_type": "display_data"
    }
   ],
   "source": [
    "# Define darker colors for the mean lines\n",
    "darker_steelblue = mcolors.to_rgba(\"steelblue\", 0.8)\n",
    "darker_coral = mcolors.to_rgba(\"coral\", 0.8)\n",
    "\n",
    "plt.hist(scores_model1, bins=50, alpha=0.5, label=\"Model No-QC\", color=\"steelblue\")\n",
    "plt.hist(scores_model2, bins=50, alpha=0.5, label=\"Model QC\", color=\"coral\")\n",
    "\n",
    "# Add vertical lines for the means\n",
    "plt.axvline(\n",
    "    np.mean(scores_model1),\n",
    "    color=darker_steelblue,\n",
    "    linestyle=\"dashed\",\n",
    "    linewidth=2,\n",
    ")\n",
    "plt.axvline(\n",
    "    np.mean(scores_model2),\n",
    "    color=darker_coral,\n",
    "    linestyle=\"dashed\",\n",
    "    linewidth=2,\n",
    ")\n",
    "\n",
    "plt.legend(loc=\"upper left\", fontsize=10)\n",
    "plt.xlabel(\"ROC AUC Score\", fontsize=12)\n",
    "plt.ylabel(\"Frequency\", fontsize=12)\n",
    "plt.title(\"Bootstrap ROC AUC Distributions For\\nQC versus No QC Data\", fontsize=14, fontweight=\"bold\")\n",
    "plt.grid(True, linestyle=\"--\", alpha=0.6)\n",
    "plt.tight_layout()\n",
    "\n",
    "# save figure\n",
    "plt.savefig(f\"{figure_path}/bootstrap_ROC_AUC_QC_versus_no_QC.png\", dpi=600)\n",
    "\n",
    "plt.show()"
   ]
  }
 ],
 "metadata": {
  "kernelspec": {
   "display_name": "machine_learning_cfret",
   "language": "python",
   "name": "python3"
  },
  "language_info": {
   "codemirror_mode": {
    "name": "ipython",
    "version": 3
   },
   "file_extension": ".py",
   "mimetype": "text/x-python",
   "name": "python",
   "nbconvert_exporter": "python",
   "pygments_lexer": "ipython3",
   "version": "3.9.19"
  }
 },
 "nbformat": 4,
 "nbformat_minor": 2
}
