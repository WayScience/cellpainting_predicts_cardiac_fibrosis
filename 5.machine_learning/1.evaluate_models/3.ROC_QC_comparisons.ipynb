{
 "cells": [
  {
   "cell_type": "markdown",
   "metadata": {},
   "source": [
    "## Perform bootstrapping ROC AUC method to determine if QC significantly improves performance of model\n",
    "\n",
    "In this method, we have trained two models; one with QC'd data and the other without QC'd data (more noise). \n",
    "To assess quality, apply the models to a holdout dataset that both models have never seen that has been QC'd.\n",
    "We take subsamples of this dataset to perform a bootstapping method that will calculate the ROC AUC across the QC'd holdout samples.\n",
    "\n",
    "The goal of this analysis is to see how well the models perform when applied to a new dataset that has only \"good\" cells, since we will be applying QC to all future plates.\n"
   ]
  },
  {
   "cell_type": "markdown",
   "metadata": {},
   "source": [
    "## Import libraries"
   ]
  },
  {
   "cell_type": "code",
   "execution_count": 1,
   "metadata": {},
   "outputs": [],
   "source": [
    "import pathlib\n",
    "import joblib\n",
    "from joblib import load\n",
    "import numpy as np\n",
    "import pandas as pd\n",
    "import matplotlib.pyplot as plt\n",
    "from sklearn.metrics import roc_auc_score\n",
    "from sklearn.utils import resample\n",
    "import matplotlib.colors as mcolors\n",
    "from scipy.stats import ttest_ind\n",
    "\n",
    "import sys\n",
    "\n",
    "sys.path.append(\"../../utils\")\n",
    "from training_utils import get_X_y_data"
   ]
  },
  {
   "cell_type": "markdown",
   "metadata": {},
   "source": [
    "## Define function"
   ]
  },
  {
   "cell_type": "code",
   "execution_count": 2,
   "metadata": {},
   "outputs": [],
   "source": [
    "# Define function to preform bootstrapping\n",
    "def bootstrap_roc_auc(y_true, y_pred, n_bootstraps=1000):\n",
    "    \"\"\"\n",
    "    Perform bootstrapping to compute the distribution of ROC AUC scores.\n",
    "\n",
    "    This function generates a bootstrapped distribution of ROC AUC scores by \n",
    "    resampling the provided true labels and predicted probabilities with \n",
    "    replacement.\n",
    "\n",
    "    Parameters:\n",
    "    ----------\n",
    "    y_true : array-like of shape (n_samples,)\n",
    "        True binary labels (0 or 1) for the dataset.\n",
    "        \n",
    "    y_pred : array-like of shape (n_samples,)\n",
    "        Predicted probabilities or scores for the positive class.\n",
    "        \n",
    "    n_bootstraps : int, optional, default=1000\n",
    "        Number of bootstrap iterations to perform.\n",
    "\n",
    "    Returns:\n",
    "    -------\n",
    "    bootstrapped_scores : np.ndarray\n",
    "        An array of bootstrapped ROC AUC scores. Each element represents the \n",
    "        ROC AUC computed for a resampled dataset.\n",
    "    \"\"\"\n",
    "\n",
    "    bootstrapped_scores = []\n",
    "    for i in range(n_bootstraps):\n",
    "        indices = resample(np.arange(len(y_true)), replace=True)\n",
    "        if len(np.unique(y_true[indices])) < 2:\n",
    "            continue\n",
    "        score = roc_auc_score(y_true[indices], y_pred[indices])\n",
    "        bootstrapped_scores.append(score)\n",
    "    return np.array(bootstrapped_scores)"
   ]
  },
  {
   "cell_type": "markdown",
   "metadata": {},
   "source": [
    "## Load in non-QC model and dataset"
   ]
  },
  {
   "cell_type": "code",
   "execution_count": 3,
   "metadata": {},
   "outputs": [
    {
     "data": {
      "text/plain": [
       "648"
      ]
     },
     "execution_count": 3,
     "metadata": {},
     "output_type": "execute_result"
    }
   ],
   "source": [
    "# Load the no_QC trained model\n",
    "no_QC_model = joblib.load(\n",
    "    pathlib.Path(\n",
    "        \"../0.train_logistic_regression/models/no_QC_models/log_reg_fs_plate_4_final_downsample_no_QC.joblib\"\n",
    "    )\n",
    ")\n",
    "\n",
    "# Load the feature-selected data (ensure it includes both features and labels)\n",
    "no_QC_plate_4_data = pd.read_parquet(\n",
    "    pathlib.Path(\n",
    "        \"../../3.process_cfret_features/data/single_cell_profiles/localhost231120090001_sc_feature_selected_no_QC.parquet\"\n",
    "    ).resolve(strict=True)\n",
    ")\n",
    "\n",
    "# Load the normalized QC'd data that we will filter and apply the model to\n",
    "plate_4_QC_data = pd.read_parquet(\n",
    "    pathlib.Path(\n",
    "        \"../../3.process_cfret_features/data/single_cell_profiles/localhost231120090001_sc_normalized.parquet\"\n",
    "    )\n",
    ")\n",
    "\n",
    "# Filter out columns feature columns\n",
    "no_QC_model_columns = [\n",
    "    col for col in no_QC_plate_4_data.columns if not col.startswith(\"Metadata\")\n",
    "]\n",
    "\n",
    "len(no_QC_model_columns)"
   ]
  },
  {
   "cell_type": "markdown",
   "metadata": {},
   "source": [
    "### Filter the QC'd data with the features used in the non-QC'd model"
   ]
  },
  {
   "cell_type": "code",
   "execution_count": 4,
   "metadata": {},
   "outputs": [],
   "source": [
    "# Get metadata columns from the plate 4 QC'd data\n",
    "metadata_columns = [\n",
    "    col for col in plate_4_QC_data.columns if col.startswith(\"Metadata\")\n",
    "]\n",
    "\n",
    "# Filter out the columns that aren't in the no QC model\n",
    "common_filtered_columns = [\n",
    "    col for col in plate_4_QC_data.columns if col in no_QC_model_columns\n",
    "]\n",
    "\n",
    "# Combine the common feature columns with metadata columns to filter out the main dataframe\n",
    "all_filtered_columns = common_filtered_columns + metadata_columns\n",
    "\n",
    "# Filter the plate_4 normalized data with the model features\n",
    "plate_4_data_filtered = plate_4_QC_data[all_filtered_columns]\n",
    "\n",
    "# Filter the plate 4 QC'd data to only include rows where:\n",
    "# - Metadata_heart_number == 7 and Metadata_treatment == \"DMSO\"\n",
    "# - OR Metadata_heart_number == 29\n",
    "holdout_data_no_QC_model = plate_4_data_filtered[\n",
    "    ((plate_4_data_filtered[\"Metadata_heart_number\"] == 7) & (plate_4_data_filtered[\"Metadata_treatment\"] == \"DMSO\")) |\n",
    "    (plate_4_data_filtered[\"Metadata_heart_number\"] == 29)\n",
    "]\n",
    "\n",
    "# Load in X and y data from QC'd data with the features for the no QC model\n",
    "X, y = get_X_y_data(df=holdout_data_no_QC_model, label=\"Metadata_cell_type\")"
   ]
  },
  {
   "cell_type": "markdown",
   "metadata": {},
   "source": [
    "### Apply no QC model to the QC'd data to extract probabilites"
   ]
  },
  {
   "cell_type": "code",
   "execution_count": 5,
   "metadata": {},
   "outputs": [],
   "source": [
    "# load in label encoder\n",
    "le = load(\n",
    "    pathlib.Path(\n",
    "        \"../0.train_logistic_regression/encoder_results/label_encoder_log_reg_fs_plate_4.joblib\"\n",
    "    )\n",
    ")\n",
    "\n",
    "# Assign y classes to correct binary using label encoder results\n",
    "y_binary = le.transform(y)\n",
    "\n",
    "# Predict probabilities for the positive class\n",
    "y_probs_modelNoQC = no_QC_model.predict_proba(X)[:, 1]"
   ]
  },
  {
   "cell_type": "markdown",
   "metadata": {},
   "source": [
    "## Load in QC model and QC data"
   ]
  },
  {
   "cell_type": "markdown",
   "metadata": {},
   "source": [
    "### Extract probabilities from the QC'd data using the QC model"
   ]
  },
  {
   "cell_type": "code",
   "execution_count": 6,
   "metadata": {},
   "outputs": [],
   "source": [
    "# Load the trained model\n",
    "QC_model = joblib.load(\n",
    "    pathlib.Path(\n",
    "        \"../0.train_logistic_regression/models/log_reg_fs_plate_4_final_downsample.joblib\"\n",
    "    )\n",
    ")\n",
    "\n",
    "# Load the feature-selected QC plate 4 (ensure it includes both features and labels)\n",
    "plate_4_QC = pd.read_parquet(\n",
    "    pathlib.Path(\n",
    "        \"../../3.process_cfret_features/data/single_cell_profiles/localhost231120090001_sc_feature_selected.parquet\"\n",
    "    )\n",
    ")\n",
    "\n",
    "# Filter the test_data to only include rows where:\n",
    "# - Metadata_heart_number == 7 and Metadata_treatment == \"DMSO\"\n",
    "# - OR Metadata_heart_number == 29\n",
    "holdout_QC_data = plate_4_QC[\n",
    "    (\n",
    "        (plate_4_QC[\"Metadata_heart_number\"] == 7)\n",
    "        & (plate_4_QC[\"Metadata_treatment\"] == \"DMSO\")\n",
    "    )\n",
    "    | (plate_4_QC[\"Metadata_heart_number\"] == 29)\n",
    "]\n",
    "\n",
    "# Load in X and y data from dataset\n",
    "X, y = get_X_y_data(df=holdout_QC_data, label=\"Metadata_cell_type\")\n",
    "\n",
    "# Assign y classes to correct binary using label encoder results\n",
    "y_binary = le.transform(y)\n",
    "\n",
    "# Predict probabilities for the positive class\n",
    "y_probs_modelQC = QC_model.predict_proba(X)[:, 1]"
   ]
  },
  {
   "cell_type": "markdown",
   "metadata": {},
   "source": [
    "## Calculate the ROC AUC score from applying the QC'd holdout data to both models"
   ]
  },
  {
   "cell_type": "code",
   "execution_count": 7,
   "metadata": {},
   "outputs": [
    {
     "name": "stdout",
     "output_type": "stream",
     "text": [
      "AUC Model 1: 0.9115288263122489\n",
      "AUC Model 2: 0.9288569897636957\n"
     ]
    }
   ],
   "source": [
    "# Calculate ROC AUC\n",
    "aucNoQC = roc_auc_score(y_binary, y_probs_modelNoQC)\n",
    "aucQC = roc_auc_score(y_binary, y_probs_modelQC)\n",
    "\n",
    "print(f\"AUC Model 1: {aucNoQC}\")\n",
    "print(f\"AUC Model 2: {aucQC}\")"
   ]
  },
  {
   "cell_type": "markdown",
   "metadata": {},
   "source": [
    "## Apply bootstrap ROC function and perform a t-test to determine significant difference between distributions"
   ]
  },
  {
   "cell_type": "code",
   "execution_count": 8,
   "metadata": {},
   "outputs": [
    {
     "name": "stdout",
     "output_type": "stream",
     "text": [
      "T-statistic: -72.09813518227527, P-value: 0.0\n"
     ]
    }
   ],
   "source": [
    "# No QC model\n",
    "scores_model1 = bootstrap_roc_auc(y_binary, y_probs_modelNoQC)\n",
    "\n",
    "# QC model\n",
    "scores_model2 = bootstrap_roc_auc(y_binary, y_probs_modelQC)\n",
    "\n",
    "# Compare distributions\n",
    "t_stat, p_value = ttest_ind(scores_model1, scores_model2)\n",
    "print(f\"T-statistic: {t_stat}, P-value: {p_value}\")"
   ]
  },
  {
   "cell_type": "code",
   "execution_count": 9,
   "metadata": {},
   "outputs": [
    {
     "name": "stdout",
     "output_type": "stream",
     "text": [
      "Mean ROC AUC for Model No-QC: 0.9116075137342311\n",
      "Mean ROC AUC for Model QC: 0.9287014253247733\n"
     ]
    }
   ],
   "source": [
    "print(f\"Mean ROC AUC for Model No-QC: {np.mean(scores_model1)}\")\n",
    "print(f\"Mean ROC AUC for Model QC: {np.mean(scores_model2)}\")"
   ]
  },
  {
   "cell_type": "markdown",
   "metadata": {},
   "source": [
    "## Create histogram plot with the AUC ROC bootstrap distributions"
   ]
  },
  {
   "cell_type": "code",
   "execution_count": 10,
   "metadata": {},
   "outputs": [
    {
     "data": {
      "image/png": "[encoded data removed]",
      "text/plain": [
       "<Figure size 640x480 with 1 Axes>"
      ]
     },
     "metadata": {},
     "output_type": "display_data"
    }
   ],
   "source": [
    "# Define darker colors for the mean lines\n",
    "darker_steelblue = mcolors.to_rgba(\"steelblue\", 0.8)\n",
    "darker_coral = mcolors.to_rgba(\"coral\", 0.8)\n",
    "\n",
    "plt.hist(scores_model1, bins=50, alpha=0.5, label=\"Model No-QC\", color=\"steelblue\")\n",
    "plt.hist(scores_model2, bins=50, alpha=0.5, label=\"Model QC\", color=\"coral\")\n",
    "\n",
    "# Add vertical lines for the means\n",
    "plt.axvline(\n",
    "    np.mean(scores_model1),\n",
    "    color=darker_steelblue,\n",
    "    linestyle=\"dashed\",\n",
    "    linewidth=2,\n",
    ")\n",
    "plt.axvline(\n",
    "    np.mean(scores_model2),\n",
    "    color=darker_coral,\n",
    "    linestyle=\"dashed\",\n",
    "    linewidth=2,\n",
    ")\n",
    "\n",
    "plt.legend(loc=\"upper left\", fontsize=10)\n",
    "plt.xlabel(\"ROC AUC Score\", fontsize=12)\n",
    "plt.ylabel(\"Frequency\", fontsize=12)\n",
    "plt.title(\"Bootstrap ROC AUC Distributions\", fontsize=14, fontweight=\"bold\")\n",
    "plt.grid(True, linestyle=\"--\", alpha=0.6)\n",
    "plt.tight_layout()\n",
    "\n",
    "# save figure\n",
    "plt.savefig(\"./figures/bootstrap_plot.png\", dpi=600)\n",
    "\n",
    "plt.show()"
   ]
  }
 ],
 "metadata": {
  "kernelspec": {
   "display_name": "Python 3",
   "language": "python",
   "name": "python3"
  },
  "language_info": {
   "codemirror_mode": {
    "name": "ipython",
    "version": 3
   },
   "file_extension": ".py",
   "mimetype": "text/x-python",
   "name": "python",
   "nbconvert_exporter": "python",
   "pygments_lexer": "ipython3",
   "version": "3.9.19"
  }
 },
 "nbformat": 4,
 "nbformat_minor": 2
}
