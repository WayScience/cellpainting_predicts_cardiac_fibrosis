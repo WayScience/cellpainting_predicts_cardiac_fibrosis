{
 "cells": [
  {
   "cell_type": "markdown",
   "metadata": {},
   "source": [
    "# Extract logistic regression model coefficients per CellProfiler feature\n",
    "\n",
    "The coefficients from the machine learning model will either be positive (x > 0), where if the feature value increases, the more likely the feature is related to the Healthy cell type, negative (x < 0), where if the feature value increases, the more likely the feature is the Failing cell type, and zero (x = 0), where that feature has no impact on predicting if a cell is Healthy or Failing."
   ]
  },
  {
   "cell_type": "markdown",
   "metadata": {},
   "source": [
    "## Import libraries"
   ]
  },
  {
   "cell_type": "code",
   "execution_count": 1,
   "metadata": {},
   "outputs": [],
   "source": [
    "from joblib import load\n",
    "import pathlib\n",
    "import pandas as pd"
   ]
  },
  {
   "cell_type": "markdown",
   "metadata": {},
   "source": [
    "## Load in the training data to collect the CellProfiler feature columns"
   ]
  },
  {
   "cell_type": "code",
   "execution_count": 2,
   "metadata": {},
   "outputs": [
    {
     "name": "stdout",
     "output_type": "stream",
     "text": [
      "625\n",
      "Examples of first five feature columns:\n",
      "Cytoplasm_AreaShape_BoundingBoxArea\n",
      "Cytoplasm_AreaShape_Compactness\n",
      "Cytoplasm_AreaShape_Eccentricity\n",
      "Cytoplasm_AreaShape_Extent\n",
      "Cytoplasm_AreaShape_FormFactor\n"
     ]
    }
   ],
   "source": [
    "# Path to data dir with the training, testing, and holdout splits\n",
    "data_dir = pathlib.Path(\"../0.train_logistic_regression/data/\")\n",
    "\n",
    "# Output dir for coefficients data\n",
    "coeff_dir = pathlib.Path(\"./coeff_data/\")\n",
    "coeff_dir.mkdir(exist_ok=True)\n",
    "\n",
    "# Path to training data to access the feature columns\n",
    "path_to_training_data = pathlib.Path(f\"{data_dir}/training_data.csv\")\n",
    "\n",
    "# Get all the column names from the training data\n",
    "all_columns = pd.read_csv(path_to_training_data, nrows=0).columns\n",
    "\n",
    "# Filter columns that start with 'Metadata_' to only get feature columns from CellProfiler\n",
    "feature_columns = [col for col in all_columns if not col.startswith('Metadata_')]\n",
    "\n",
    "print(len(feature_columns))\n",
    "feature_columns\n",
    "print(\"Examples of first five feature columns:\")\n",
    "for example_column in feature_columns[:5]:\n",
    "    print(example_column)"
   ]
  },
  {
   "cell_type": "markdown",
   "metadata": {},
   "source": [
    "## Set paths and load in the final model"
   ]
  },
  {
   "cell_type": "code",
   "execution_count": 3,
   "metadata": {},
   "outputs": [],
   "source": [
    "# path to the final model joblib file\n",
    "path_to_final_model = pathlib.Path(\"../0.train_logistic_regression/models/log_reg_fs_plate_4_final_downsample.joblib\").resolve(strict=True)\n",
    "\n",
    "# load in final model\n",
    "final_model = load(path_to_final_model)"
   ]
  },
  {
   "cell_type": "markdown",
   "metadata": {},
   "source": [
    "## Collect coefficients from the model and match with the correct feature in a dataframe"
   ]
  },
  {
   "cell_type": "code",
   "execution_count": 4,
   "metadata": {},
   "outputs": [
    {
     "name": "stdout",
     "output_type": "stream",
     "text": [
      "(1, 625)\n",
      "The number of coefficients matches the number of feature columns.\n"
     ]
    },
    {
     "data": {
      "text/html": [
       "<div>\n",
       "<style scoped>\n",
       "    .dataframe tbody tr th:only-of-type {\n",
       "        vertical-align: middle;\n",
       "    }\n",
       "\n",
       "    .dataframe tbody tr th {\n",
       "        vertical-align: top;\n",
       "    }\n",
       "\n",
       "    .dataframe thead th {\n",
       "        text-align: right;\n",
       "    }\n",
       "</style>\n",
       "<table border=\"1\" class=\"dataframe\">\n",
       "  <thead>\n",
       "    <tr style=\"text-align: right;\">\n",
       "      <th></th>\n",
       "      <th>Feature</th>\n",
       "      <th>Coefficient</th>\n",
       "    </tr>\n",
       "  </thead>\n",
       "  <tbody>\n",
       "    <tr>\n",
       "      <th>0</th>\n",
       "      <td>Cytoplasm_AreaShape_BoundingBoxArea</td>\n",
       "      <td>0.000000</td>\n",
       "    </tr>\n",
       "    <tr>\n",
       "      <th>1</th>\n",
       "      <td>Cytoplasm_AreaShape_Compactness</td>\n",
       "      <td>0.258104</td>\n",
       "    </tr>\n",
       "    <tr>\n",
       "      <th>2</th>\n",
       "      <td>Cytoplasm_AreaShape_Eccentricity</td>\n",
       "      <td>0.043979</td>\n",
       "    </tr>\n",
       "    <tr>\n",
       "      <th>3</th>\n",
       "      <td>Cytoplasm_AreaShape_Extent</td>\n",
       "      <td>0.000000</td>\n",
       "    </tr>\n",
       "    <tr>\n",
       "      <th>4</th>\n",
       "      <td>Cytoplasm_AreaShape_FormFactor</td>\n",
       "      <td>0.000000</td>\n",
       "    </tr>\n",
       "  </tbody>\n",
       "</table>\n",
       "</div>"
      ],
      "text/plain": [
       "                               Feature  Coefficient\n",
       "0  Cytoplasm_AreaShape_BoundingBoxArea     0.000000\n",
       "1      Cytoplasm_AreaShape_Compactness     0.258104\n",
       "2     Cytoplasm_AreaShape_Eccentricity     0.043979\n",
       "3           Cytoplasm_AreaShape_Extent     0.000000\n",
       "4       Cytoplasm_AreaShape_FormFactor     0.000000"
      ]
     },
     "execution_count": 4,
     "metadata": {},
     "output_type": "execute_result"
    }
   ],
   "source": [
    "# Get the coefficients\n",
    "coefficients = final_model.coef_\n",
    "\n",
    "# Print the coefficients shape and confirm it is the same number as feature columns from training data\n",
    "print(coefficients.shape)\n",
    "# Confirm it is the same number as feature columns from training data\n",
    "if coefficients.shape[1] == len(feature_columns):\n",
    "    print(\"The number of coefficients matches the number of feature columns.\")\n",
    "else:\n",
    "    print(\"Warning: The number of coefficients does not match the number of feature columns.\")\n",
    "\n",
    "# Create a DataFrame with the coefficients and features\n",
    "coefficients_df = pd.DataFrame({'Feature': feature_columns, 'Coefficient': coefficients.flatten()})\n",
    "\n",
    "# Save the all coefficient data into a CSV file prior to splitting\n",
    "coefficients_df.to_csv(f'{coeff_dir}/all_coeffs.csv', index=False)\n",
    "\n",
    "# Print the DataFrame\n",
    "coefficients_df.head()"
   ]
  },
  {
   "cell_type": "markdown",
   "metadata": {},
   "source": [
    "## Split the data frame by negative, positive. and zero coefficients which relate to different class importance"
   ]
  },
  {
   "cell_type": "code",
   "execution_count": 5,
   "metadata": {},
   "outputs": [
    {
     "name": "stdout",
     "output_type": "stream",
     "text": [
      "Positive Coefficients: 191\n",
      "\n",
      "Negative Coefficients: 202\n",
      "\n",
      "Zero Coefficients: 232\n"
     ]
    },
    {
     "data": {
      "text/html": [
       "<div>\n",
       "<style scoped>\n",
       "    .dataframe tbody tr th:only-of-type {\n",
       "        vertical-align: middle;\n",
       "    }\n",
       "\n",
       "    .dataframe tbody tr th {\n",
       "        vertical-align: top;\n",
       "    }\n",
       "\n",
       "    .dataframe thead th {\n",
       "        text-align: right;\n",
       "    }\n",
       "</style>\n",
       "<table border=\"1\" class=\"dataframe\">\n",
       "  <thead>\n",
       "    <tr style=\"text-align: right;\">\n",
       "      <th></th>\n",
       "      <th>Feature</th>\n",
       "      <th>Failing_Coeffs</th>\n",
       "    </tr>\n",
       "  </thead>\n",
       "  <tbody>\n",
       "    <tr>\n",
       "      <th>8</th>\n",
       "      <td>Cytoplasm_AreaShape_Solidity</td>\n",
       "      <td>0.368831</td>\n",
       "    </tr>\n",
       "    <tr>\n",
       "      <th>9</th>\n",
       "      <td>Cytoplasm_AreaShape_Zernike_0_0</td>\n",
       "      <td>0.070718</td>\n",
       "    </tr>\n",
       "    <tr>\n",
       "      <th>15</th>\n",
       "      <td>Cytoplasm_AreaShape_Zernike_4_0</td>\n",
       "      <td>0.031305</td>\n",
       "    </tr>\n",
       "    <tr>\n",
       "      <th>16</th>\n",
       "      <td>Cytoplasm_AreaShape_Zernike_4_2</td>\n",
       "      <td>0.095932</td>\n",
       "    </tr>\n",
       "    <tr>\n",
       "      <th>18</th>\n",
       "      <td>Cytoplasm_AreaShape_Zernike_5_3</td>\n",
       "      <td>0.062056</td>\n",
       "    </tr>\n",
       "  </tbody>\n",
       "</table>\n",
       "</div>"
      ],
      "text/plain": [
       "                            Feature  Failing_Coeffs\n",
       "8      Cytoplasm_AreaShape_Solidity        0.368831\n",
       "9   Cytoplasm_AreaShape_Zernike_0_0        0.070718\n",
       "15  Cytoplasm_AreaShape_Zernike_4_0        0.031305\n",
       "16  Cytoplasm_AreaShape_Zernike_4_2        0.095932\n",
       "18  Cytoplasm_AreaShape_Zernike_5_3        0.062056"
      ]
     },
     "execution_count": 5,
     "metadata": {},
     "output_type": "execute_result"
    }
   ],
   "source": [
    "# Split into DataFrames with positive, negative, and zero coefficients\n",
    "positive_coeffs_df = coefficients_df[coefficients_df['Coefficient'] > 0].copy()\n",
    "negative_coeffs_df = coefficients_df[coefficients_df['Coefficient'] < 0].copy()\n",
    "zero_coeffs_df = coefficients_df[coefficients_df['Coefficient'] == 0].copy()\n",
    "\n",
    "# Make the values in negative_coeffs_df positive to prevent issues during plotting\n",
    "negative_coeffs_df['Coefficient'] = abs(negative_coeffs_df['Coefficient'])\n",
    "\n",
    "# Rename the columns\n",
    "positive_coeffs_df.columns = ['Feature', 'Healthy_Coeffs']\n",
    "negative_coeffs_df.columns = ['Feature', 'Failing_Coeffs']\n",
    "zero_coeffs_df.columns = ['Feature', 'Zero_Coeffs']\n",
    "\n",
    "# Save the coef data into the \"/coeff_data\" folder\n",
    "positive_coeffs_df.to_csv(f'{coeff_dir}/healthy_coeffs.csv', index=False)\n",
    "negative_coeffs_df.to_csv(f'{coeff_dir}/failing_coeffs.csv', index=False)\n",
    "zero_coeffs_df.to_csv(f'{coeff_dir}/zero_coeffs.csv', index=False)\n",
    "\n",
    "\n",
    "# Print or use the resulting DataFrames\n",
    "print(\"Positive Coefficients:\", positive_coeffs_df.shape[0])\n",
    "print(\"\\nNegative Coefficients:\", negative_coeffs_df.shape[0])\n",
    "print(\"\\nZero Coefficients:\", zero_coeffs_df.shape[0])\n",
    "negative_coeffs_df.head()"
   ]
  },
  {
   "cell_type": "markdown",
   "metadata": {},
   "source": [
    "## Explore the coefficients"
   ]
  },
  {
   "cell_type": "code",
   "execution_count": 6,
   "metadata": {},
   "outputs": [
    {
     "name": "stdout",
     "output_type": "stream",
     "text": [
      "Feature with the highest coefficient: Nuclei_Intensity_MeanIntensityEdge_Hoechst\n",
      "Coefficient value: 1.4188322866894274\n"
     ]
    }
   ],
   "source": [
    "# Find the row with the highest coefficient value\n",
    "max_row = coefficients_df.loc[coefficients_df['Coefficient'].idxmax()]\n",
    "\n",
    "# Extract the feature and coefficient values\n",
    "max_feature = max_row['Feature']\n",
    "max_coefficient_value = max_row['Coefficient']\n",
    "\n",
    "# Print or use the result\n",
    "print(\"Feature with the highest coefficient:\", max_feature)\n",
    "print(\"Coefficient value:\", max_coefficient_value)"
   ]
  },
  {
   "cell_type": "code",
   "execution_count": 7,
   "metadata": {},
   "outputs": [
    {
     "data": {
      "text/html": [
       "<div>\n",
       "<style scoped>\n",
       "    .dataframe tbody tr th:only-of-type {\n",
       "        vertical-align: middle;\n",
       "    }\n",
       "\n",
       "    .dataframe tbody tr th {\n",
       "        vertical-align: top;\n",
       "    }\n",
       "\n",
       "    .dataframe thead th {\n",
       "        text-align: right;\n",
       "    }\n",
       "</style>\n",
       "<table border=\"1\" class=\"dataframe\">\n",
       "  <thead>\n",
       "    <tr style=\"text-align: right;\">\n",
       "      <th></th>\n",
       "      <th>Feature</th>\n",
       "      <th>Coefficient</th>\n",
       "    </tr>\n",
       "  </thead>\n",
       "  <tbody>\n",
       "    <tr>\n",
       "      <th>495</th>\n",
       "      <td>Nuclei_Intensity_MeanIntensityEdge_Hoechst</td>\n",
       "      <td>1.418832</td>\n",
       "    </tr>\n",
       "    <tr>\n",
       "      <th>497</th>\n",
       "      <td>Nuclei_Intensity_MinIntensityEdge_Hoechst</td>\n",
       "      <td>0.810532</td>\n",
       "    </tr>\n",
       "    <tr>\n",
       "      <th>349</th>\n",
       "      <td>Cells_Texture_AngularSecondMoment_Hoechst_3_01...</td>\n",
       "      <td>0.748150</td>\n",
       "    </tr>\n",
       "    <tr>\n",
       "      <th>82</th>\n",
       "      <td>Cytoplasm_Intensity_StdIntensityEdge_Hoechst</td>\n",
       "      <td>0.683390</td>\n",
       "    </tr>\n",
       "    <tr>\n",
       "      <th>436</th>\n",
       "      <td>Nuclei_Correlation_K_Mitochondria_PM</td>\n",
       "      <td>0.668301</td>\n",
       "    </tr>\n",
       "    <tr>\n",
       "      <th>499</th>\n",
       "      <td>Nuclei_Intensity_MinIntensity_Actin</td>\n",
       "      <td>0.623373</td>\n",
       "    </tr>\n",
       "    <tr>\n",
       "      <th>475</th>\n",
       "      <td>Nuclei_Intensity_IntegratedIntensityEdge_Hoechst</td>\n",
       "      <td>0.555998</td>\n",
       "    </tr>\n",
       "    <tr>\n",
       "      <th>480</th>\n",
       "      <td>Nuclei_Intensity_IntegratedIntensity_PM</td>\n",
       "      <td>0.551413</td>\n",
       "    </tr>\n",
       "    <tr>\n",
       "      <th>476</th>\n",
       "      <td>Nuclei_Intensity_IntegratedIntensity_Actin</td>\n",
       "      <td>0.493182</td>\n",
       "    </tr>\n",
       "    <tr>\n",
       "      <th>561</th>\n",
       "      <td>Nuclei_Texture_AngularSecondMoment_PM_3_01_256</td>\n",
       "      <td>0.482055</td>\n",
       "    </tr>\n",
       "  </tbody>\n",
       "</table>\n",
       "</div>"
      ],
      "text/plain": [
       "                                               Feature  Coefficient\n",
       "495         Nuclei_Intensity_MeanIntensityEdge_Hoechst     1.418832\n",
       "497          Nuclei_Intensity_MinIntensityEdge_Hoechst     0.810532\n",
       "349  Cells_Texture_AngularSecondMoment_Hoechst_3_01...     0.748150\n",
       "82        Cytoplasm_Intensity_StdIntensityEdge_Hoechst     0.683390\n",
       "436               Nuclei_Correlation_K_Mitochondria_PM     0.668301\n",
       "499                Nuclei_Intensity_MinIntensity_Actin     0.623373\n",
       "475   Nuclei_Intensity_IntegratedIntensityEdge_Hoechst     0.555998\n",
       "480            Nuclei_Intensity_IntegratedIntensity_PM     0.551413\n",
       "476         Nuclei_Intensity_IntegratedIntensity_Actin     0.493182\n",
       "561     Nuclei_Texture_AngularSecondMoment_PM_3_01_256     0.482055"
      ]
     },
     "execution_count": 7,
     "metadata": {},
     "output_type": "execute_result"
    }
   ],
   "source": [
    "# Sort the DataFrame based on the coefficient values (from most positive to most negative)\n",
    "coefficients_healthy_df = coefficients_df.sort_values(by='Coefficient', ascending=False)\n",
    "\n",
    "# Show the top ten ranking features for predicting \"Healthy\" class\n",
    "coefficients_healthy_df.head(10)"
   ]
  },
  {
   "cell_type": "code",
   "execution_count": 8,
   "metadata": {},
   "outputs": [
    {
     "name": "stdout",
     "output_type": "stream",
     "text": [
      "Feature with the most negative coefficient: Cells_Intensity_IntegratedIntensityEdge_Actin\n",
      "Coefficient value: -1.3572041220936908\n"
     ]
    }
   ],
   "source": [
    "# Find the row with the most negative coefficient value\n",
    "min_row = coefficients_df.loc[coefficients_df['Coefficient'].idxmin()]\n",
    "\n",
    "# Extract the feature and coefficient values\n",
    "min_feature = min_row['Feature']\n",
    "min_coefficient_value = min_row['Coefficient']\n",
    "\n",
    "# Print or use the result\n",
    "print(\"Feature with the most negative coefficient:\", min_feature)\n",
    "print(\"Coefficient value:\", min_coefficient_value)"
   ]
  },
  {
   "cell_type": "code",
   "execution_count": 9,
   "metadata": {},
   "outputs": [
    {
     "data": {
      "text/html": [
       "<div>\n",
       "<style scoped>\n",
       "    .dataframe tbody tr th:only-of-type {\n",
       "        vertical-align: middle;\n",
       "    }\n",
       "\n",
       "    .dataframe tbody tr th {\n",
       "        vertical-align: top;\n",
       "    }\n",
       "\n",
       "    .dataframe thead th {\n",
       "        text-align: right;\n",
       "    }\n",
       "</style>\n",
       "<table border=\"1\" class=\"dataframe\">\n",
       "  <thead>\n",
       "    <tr style=\"text-align: right;\">\n",
       "      <th></th>\n",
       "      <th>Feature</th>\n",
       "      <th>Coefficient</th>\n",
       "    </tr>\n",
       "  </thead>\n",
       "  <tbody>\n",
       "    <tr>\n",
       "      <th>268</th>\n",
       "      <td>Cells_Intensity_IntegratedIntensityEdge_Actin</td>\n",
       "      <td>-1.357204</td>\n",
       "    </tr>\n",
       "    <tr>\n",
       "      <th>288</th>\n",
       "      <td>Cells_Intensity_StdIntensityEdge_Hoechst</td>\n",
       "      <td>-0.736874</td>\n",
       "    </tr>\n",
       "    <tr>\n",
       "      <th>183</th>\n",
       "      <td>Cytoplasm_Texture_InfoMeas1_PM_3_00_256</td>\n",
       "      <td>-0.518741</td>\n",
       "    </tr>\n",
       "    <tr>\n",
       "      <th>503</th>\n",
       "      <td>Nuclei_Intensity_StdIntensityEdge_Hoechst</td>\n",
       "      <td>-0.515995</td>\n",
       "    </tr>\n",
       "    <tr>\n",
       "      <th>286</th>\n",
       "      <td>Cells_Intensity_MinIntensityEdge_Actin</td>\n",
       "      <td>-0.506231</td>\n",
       "    </tr>\n",
       "    <tr>\n",
       "      <th>378</th>\n",
       "      <td>Nuclei_AreaShape_ConvexArea</td>\n",
       "      <td>-0.431671</td>\n",
       "    </tr>\n",
       "    <tr>\n",
       "      <th>381</th>\n",
       "      <td>Nuclei_AreaShape_MinFeretDiameter</td>\n",
       "      <td>-0.413160</td>\n",
       "    </tr>\n",
       "    <tr>\n",
       "      <th>210</th>\n",
       "      <td>Cells_AreaShape_Area</td>\n",
       "      <td>-0.400735</td>\n",
       "    </tr>\n",
       "    <tr>\n",
       "      <th>458</th>\n",
       "      <td>Nuclei_Correlation_RWC_Hoechst_Actin</td>\n",
       "      <td>-0.390901</td>\n",
       "    </tr>\n",
       "    <tr>\n",
       "      <th>42</th>\n",
       "      <td>Cytoplasm_Correlation_RWC_ER_Actin</td>\n",
       "      <td>-0.382378</td>\n",
       "    </tr>\n",
       "  </tbody>\n",
       "</table>\n",
       "</div>"
      ],
      "text/plain": [
       "                                           Feature  Coefficient\n",
       "268  Cells_Intensity_IntegratedIntensityEdge_Actin    -1.357204\n",
       "288       Cells_Intensity_StdIntensityEdge_Hoechst    -0.736874\n",
       "183        Cytoplasm_Texture_InfoMeas1_PM_3_00_256    -0.518741\n",
       "503      Nuclei_Intensity_StdIntensityEdge_Hoechst    -0.515995\n",
       "286         Cells_Intensity_MinIntensityEdge_Actin    -0.506231\n",
       "378                    Nuclei_AreaShape_ConvexArea    -0.431671\n",
       "381              Nuclei_AreaShape_MinFeretDiameter    -0.413160\n",
       "210                           Cells_AreaShape_Area    -0.400735\n",
       "458           Nuclei_Correlation_RWC_Hoechst_Actin    -0.390901\n",
       "42              Cytoplasm_Correlation_RWC_ER_Actin    -0.382378"
      ]
     },
     "execution_count": 9,
     "metadata": {},
     "output_type": "execute_result"
    }
   ],
   "source": [
    "# Sort the DataFrame based on the coefficient values (from most negative to most positive)\n",
    "coefficients_failing_df = coefficients_df.sort_values(by='Coefficient', ascending=True)\n",
    "\n",
    "# Show the top ten ranking features for predicting \"Failing\" class\n",
    "coefficients_failing_df.head(10)"
   ]
  },
  {
   "cell_type": "markdown",
   "metadata": {},
   "source": [
    "## Add ranking column with sorted descending values and save the CSV for visualization\n",
    "\n",
    "Rank is based on the highest positive coefficient which will have rank one and then descending from there. We expect to see that the model will take into account many different features (positive and negative which relate to different classes) and there will be many features at zero meaning they are redundant to the model."
   ]
  },
  {
   "cell_type": "code",
   "execution_count": 10,
   "metadata": {},
   "outputs": [
    {
     "name": "stdout",
     "output_type": "stream",
     "text": [
      "(625, 3)\n"
     ]
    },
    {
     "data": {
      "text/html": [
       "<div>\n",
       "<style scoped>\n",
       "    .dataframe tbody tr th:only-of-type {\n",
       "        vertical-align: middle;\n",
       "    }\n",
       "\n",
       "    .dataframe tbody tr th {\n",
       "        vertical-align: top;\n",
       "    }\n",
       "\n",
       "    .dataframe thead th {\n",
       "        text-align: right;\n",
       "    }\n",
       "</style>\n",
       "<table border=\"1\" class=\"dataframe\">\n",
       "  <thead>\n",
       "    <tr style=\"text-align: right;\">\n",
       "      <th></th>\n",
       "      <th>Feature</th>\n",
       "      <th>Coefficient</th>\n",
       "      <th>Rank</th>\n",
       "    </tr>\n",
       "  </thead>\n",
       "  <tbody>\n",
       "    <tr>\n",
       "      <th>495</th>\n",
       "      <td>Nuclei_Intensity_MeanIntensityEdge_Hoechst</td>\n",
       "      <td>1.418832</td>\n",
       "      <td>1</td>\n",
       "    </tr>\n",
       "    <tr>\n",
       "      <th>497</th>\n",
       "      <td>Nuclei_Intensity_MinIntensityEdge_Hoechst</td>\n",
       "      <td>0.810532</td>\n",
       "      <td>2</td>\n",
       "    </tr>\n",
       "    <tr>\n",
       "      <th>349</th>\n",
       "      <td>Cells_Texture_AngularSecondMoment_Hoechst_3_01...</td>\n",
       "      <td>0.748150</td>\n",
       "      <td>3</td>\n",
       "    </tr>\n",
       "    <tr>\n",
       "      <th>82</th>\n",
       "      <td>Cytoplasm_Intensity_StdIntensityEdge_Hoechst</td>\n",
       "      <td>0.683390</td>\n",
       "      <td>4</td>\n",
       "    </tr>\n",
       "    <tr>\n",
       "      <th>436</th>\n",
       "      <td>Nuclei_Correlation_K_Mitochondria_PM</td>\n",
       "      <td>0.668301</td>\n",
       "      <td>5</td>\n",
       "    </tr>\n",
       "  </tbody>\n",
       "</table>\n",
       "</div>"
      ],
      "text/plain": [
       "                                               Feature  Coefficient  Rank\n",
       "495         Nuclei_Intensity_MeanIntensityEdge_Hoechst     1.418832     1\n",
       "497          Nuclei_Intensity_MinIntensityEdge_Hoechst     0.810532     2\n",
       "349  Cells_Texture_AngularSecondMoment_Hoechst_3_01...     0.748150     3\n",
       "82        Cytoplasm_Intensity_StdIntensityEdge_Hoechst     0.683390     4\n",
       "436               Nuclei_Correlation_K_Mitochondria_PM     0.668301     5"
      ]
     },
     "execution_count": 10,
     "metadata": {},
     "output_type": "execute_result"
    }
   ],
   "source": [
    "# Sort coefficients_df by descending order\n",
    "coefficients_df = coefficients_df.sort_values(by='Coefficient', ascending=False)\n",
    "\n",
    "# Add a new column 'Rank'\n",
    "coefficients_df['Rank'] = range(1, len(coefficients_df) + 1)\n",
    "\n",
    "# Save the ranked df\n",
    "coefficients_df.to_csv(f'{coeff_dir}/ranked_coeffs.csv', index=False)\n",
    "\n",
    "# Show df to assess if the ranking was performed correctly\n",
    "print(coefficients_df.shape)\n",
    "coefficients_df.head()"
   ]
  }
 ],
 "metadata": {
  "kernelspec": {
   "display_name": "Python 3",
   "language": "python",
   "name": "python3"
  },
  "language_info": {
   "codemirror_mode": {
    "name": "ipython",
    "version": 3
   },
   "file_extension": ".py",
   "mimetype": "text/x-python",
   "name": "python",
   "nbconvert_exporter": "python",
   "pygments_lexer": "ipython3",
   "version": "3.9.19"
  }
 },
 "nbformat": 4,
 "nbformat_minor": 2
}
