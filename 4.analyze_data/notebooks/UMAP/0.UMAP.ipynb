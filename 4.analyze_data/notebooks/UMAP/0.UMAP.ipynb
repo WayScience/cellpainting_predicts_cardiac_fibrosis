{
 "cells": [
  {
   "cell_type": "markdown",
   "id": "3e4c30af-7f25-4979-b95f-072658768859",
   "metadata": {},
   "source": [
    "## Extract UMAP embeddings for CFReT CP Features"
   ]
  },
  {
   "cell_type": "code",
   "execution_count": 5,
   "id": "9267d545-c6fe-4982-bb9b-41e25d3b8526",
   "metadata": {},
   "outputs": [],
   "source": [
    "import glob\n",
    "import pathlib\n",
    "import pandas as pd\n",
    "import umap\n",
    "import numpy as np\n",
    "\n",
    "from pycytominer import feature_select\n",
    "from pycytominer.cyto_utils import infer_cp_features"
   ]
  },
  {
   "cell_type": "markdown",
   "id": "7d144be8",
   "metadata": {},
   "source": [
    "## Generate Embeddings for Whole Plates"
   ]
  },
  {
   "cell_type": "markdown",
   "id": "5adc71fa",
   "metadata": {},
   "source": [
    "### Set constant for whole plates\n",
    "\n",
    "Note: All plates (1-4) without filtering had a random seed of 1234. For plates with filtering, we use a random seed of 0 which is a standard for the Way lab."
   ]
  },
  {
   "cell_type": "code",
   "execution_count": 6,
   "id": "0769ce32-b238-4a90-a0ab-a76688a66256",
   "metadata": {},
   "outputs": [],
   "source": [
    "# Set constants (previously set prior, normally use 0 but the change in coordinates will impact already generated single-cell crops)\n",
    "umap_random_seed = 1234\n",
    "umap_n_components = 2\n",
    "\n",
    "output_dir = pathlib.Path(\"results\")\n",
    "output_dir.mkdir(parents=True, exist_ok=True)"
   ]
  },
  {
   "cell_type": "markdown",
   "id": "43f73df3",
   "metadata": {},
   "source": [
    "### Set paths to all plates"
   ]
  },
  {
   "cell_type": "code",
   "execution_count": 7,
   "id": "8a527f37-ad44-4a64-ac3d-6a1de7eff458",
   "metadata": {},
   "outputs": [
    {
     "data": {
      "text/plain": [
       "['../../../3.process_cfret_features/data/single_cell_profiles/localhost230405150001_sc_feature_selected_no_QC.parquet']"
      ]
     },
     "execution_count": 7,
     "metadata": {},
     "output_type": "execute_result"
    }
   ],
   "source": [
    "# Set input paths\n",
    "data_dir = pathlib.Path(\"..\", \"..\", \"..\", \"3.process_cfret_features\", \"data\", \"single_cell_profiles\")\n",
    "\n",
    "# Select only the feature selected files\n",
    "file_suffix = \"*sc_feature_selected_no_QC.parquet\"\n",
    "\n",
    "# Obtain file paths for all feature selected plates\n",
    "fs_files = glob.glob(f\"{data_dir}/{file_suffix}\")\n",
    "fs_files"
   ]
  },
  {
   "cell_type": "markdown",
   "id": "f7b635c9",
   "metadata": {},
   "source": [
    "### Generate dictionary with plate and data"
   ]
  },
  {
   "cell_type": "code",
   "execution_count": 8,
   "id": "ea81cb76-72cf-4b74-b839-60fbec683e6b",
   "metadata": {},
   "outputs": [
    {
     "name": "stdout",
     "output_type": "stream",
     "text": [
      "dict_keys(['localhost230405150001_sc_feature_selected_no_QC.parquet'])\n"
     ]
    },
    {
     "data": {
      "text/plain": [
       "[(25859, 587)]"
      ]
     },
     "execution_count": 8,
     "metadata": {},
     "output_type": "execute_result"
    }
   ],
   "source": [
    "# Load feature data into a dictionary, keyed on plate name\n",
    "cp_dfs = {x.split(\"/\")[-1]: pd.read_parquet(x) for x in fs_files}\n",
    "\n",
    "# Print out useful information about each dataset\n",
    "print(cp_dfs.keys())\n",
    "[cp_dfs[x].shape for x in cp_dfs]"
   ]
  },
  {
   "cell_type": "code",
   "execution_count": 9,
   "id": "7676af6b",
   "metadata": {},
   "outputs": [
    {
     "data": {
      "text/plain": [
       "{'localhost230405150001_sc_feature_selected_no_QC.parquet':       Metadata_WellRow  Metadata_WellCol  Metadata_heart_number  \\\n",
       " 0                    B                 2                      9   \n",
       " 1                    B                 2                      9   \n",
       " 2                    B                 2                      9   \n",
       " 3                    B                 2                      9   \n",
       " 4                    B                 2                      9   \n",
       " ...                ...               ...                    ...   \n",
       " 25854                G                10                      9   \n",
       " 25855                G                10                      9   \n",
       " 25856                G                10                      9   \n",
       " 25857                G                10                      9   \n",
       " 25858                G                10                      9   \n",
       " \n",
       "       Metadata_cell_type Metadata_heart_failure_type Metadata_treatment  \\\n",
       " 0                failing                    rejected               DMSO   \n",
       " 1                failing                    rejected               DMSO   \n",
       " 2                failing                    rejected               DMSO   \n",
       " 3                failing                    rejected               DMSO   \n",
       " 4                failing                    rejected               DMSO   \n",
       " ...                  ...                         ...                ...   \n",
       " 25854            failing                    rejected               DMSO   \n",
       " 25855            failing                    rejected               DMSO   \n",
       " 25856            failing                    rejected               DMSO   \n",
       " 25857            failing                    rejected               DMSO   \n",
       " 25858            failing                    rejected               DMSO   \n",
       " \n",
       "        Metadata_Nuclei_Location_Center_X  Metadata_Nuclei_Location_Center_Y  \\\n",
       " 0                             221.046761                         137.115493   \n",
       " 1                             690.596142                         183.067828   \n",
       " 2                             626.561490                         206.923698   \n",
       " 3                             559.448583                         220.688160   \n",
       " 4                             909.019946                         247.694340   \n",
       " ...                                  ...                                ...   \n",
       " 25854                         417.553262                         678.670439   \n",
       " 25855                         498.481236                         693.440765   \n",
       " 25856                         318.200661                         728.801228   \n",
       " 25857                         491.591029                         876.989886   \n",
       " 25858                         340.428288                         919.380701   \n",
       " \n",
       "        Metadata_Cells_Location_Center_X  Metadata_Cells_Location_Center_Y  \\\n",
       " 0                            246.602800                        109.285755   \n",
       " 1                            716.170091                        177.132195   \n",
       " 2                            623.943740                        199.906440   \n",
       " 3                            528.646623                        196.955552   \n",
       " 4                            897.965996                        253.621836   \n",
       " ...                                 ...                               ...   \n",
       " 25854                        411.069742                        701.062876   \n",
       " 25855                        520.422886                        716.795365   \n",
       " 25856                        315.515137                        756.658659   \n",
       " 25857                        498.053700                        851.270108   \n",
       " 25858                        348.605561                        938.970987   \n",
       " \n",
       "        ...  Nuclei_Texture_InfoMeas2_PM_3_03_256  \\\n",
       " 0      ...                             -0.036033   \n",
       " 1      ...                              0.289544   \n",
       " 2      ...                             -0.320333   \n",
       " 3      ...                              0.817276   \n",
       " 4      ...                              0.075794   \n",
       " ...    ...                                   ...   \n",
       " 25854  ...                              1.122706   \n",
       " 25855  ...                              0.963165   \n",
       " 25856  ...                              0.471197   \n",
       " 25857  ...                              0.665870   \n",
       " 25858  ...                              0.725580   \n",
       " \n",
       "        Nuclei_Texture_InverseDifferenceMoment_Actin_3_02_256  \\\n",
       " 0                                               0.309281       \n",
       " 1                                              -0.057546       \n",
       " 2                                              -0.206961       \n",
       " 3                                               0.638283       \n",
       " 4                                               0.061901       \n",
       " ...                                                  ...       \n",
       " 25854                                           0.296499       \n",
       " 25855                                           0.740044       \n",
       " 25856                                           0.434303       \n",
       " 25857                                           0.461371       \n",
       " 25858                                          -0.062509       \n",
       " \n",
       "       Nuclei_Texture_InverseDifferenceMoment_ER_3_01_256  \\\n",
       " 0                                              -0.612973   \n",
       " 1                                              -0.419084   \n",
       " 2                                              -0.620694   \n",
       " 3                                              -0.408078   \n",
       " 4                                               0.763259   \n",
       " ...                                                  ...   \n",
       " 25854                                           0.040349   \n",
       " 25855                                          -1.432724   \n",
       " 25856                                           0.838859   \n",
       " 25857                                           0.455476   \n",
       " 25858                                           0.658703   \n",
       " \n",
       "       Nuclei_Texture_InverseDifferenceMoment_Mitochondria_3_03_256  \\\n",
       " 0                                               0.906721             \n",
       " 1                                              -0.068447             \n",
       " 2                                               0.454668             \n",
       " 3                                               0.206056             \n",
       " 4                                              -0.821989             \n",
       " ...                                                  ...             \n",
       " 25854                                           0.291957             \n",
       " 25855                                          -1.032911             \n",
       " 25856                                           0.550193             \n",
       " 25857                                           0.759752             \n",
       " 25858                                           0.352922             \n",
       " \n",
       "        Nuclei_Texture_InverseDifferenceMoment_PM_3_01_256  \\\n",
       " 0                                               0.418794    \n",
       " 1                                               0.437270    \n",
       " 2                                               0.791982    \n",
       " 3                                               0.707142    \n",
       " 4                                               0.978198    \n",
       " ...                                                  ...    \n",
       " 25854                                          -0.659869    \n",
       " 25855                                          -1.474235    \n",
       " 25856                                           0.456495    \n",
       " 25857                                           0.994478    \n",
       " 25858                                           0.835490    \n",
       " \n",
       "        Nuclei_Texture_InverseDifferenceMoment_PM_3_03_256  \\\n",
       " 0                                               0.385735    \n",
       " 1                                               0.335719    \n",
       " 2                                               0.541460    \n",
       " 3                                               0.398355    \n",
       " 4                                               0.974789    \n",
       " ...                                                  ...    \n",
       " 25854                                           0.112063    \n",
       " 25855                                          -1.680148    \n",
       " 25856                                           0.563364    \n",
       " 25857                                           0.990337    \n",
       " 25858                                           0.778222    \n",
       " \n",
       "        Nuclei_Texture_SumVariance_ER_3_01_256  \\\n",
       " 0                                   -0.133843   \n",
       " 1                                   -0.216157   \n",
       " 2                                   -0.121337   \n",
       " 3                                   -0.164322   \n",
       " 4                                   -0.433306   \n",
       " ...                                       ...   \n",
       " 25854                               -0.303624   \n",
       " 25855                                0.820592   \n",
       " 25856                               -0.395023   \n",
       " 25857                               -0.379692   \n",
       " 25858                               -0.212297   \n",
       " \n",
       "        Nuclei_Texture_SumVariance_Hoechst_3_01_256  \\\n",
       " 0                                        -0.363257   \n",
       " 1                                        -0.371891   \n",
       " 2                                        -0.395564   \n",
       " 3                                        -0.366784   \n",
       " 4                                        -0.391546   \n",
       " ...                                            ...   \n",
       " 25854                                    -0.253167   \n",
       " 25855                                    -0.034894   \n",
       " 25856                                    -0.106850   \n",
       " 25857                                    -0.152789   \n",
       " 25858                                    -0.345726   \n",
       " \n",
       "       Nuclei_Texture_SumVariance_Mitochondria_3_01_256  \\\n",
       " 0                                            -0.262538   \n",
       " 1                                             2.526579   \n",
       " 2                                            -0.234732   \n",
       " 3                                            -0.150974   \n",
       " 4                                             0.044598   \n",
       " ...                                                ...   \n",
       " 25854                                        -0.225930   \n",
       " 25855                                         0.305059   \n",
       " 25856                                        -0.258179   \n",
       " 25857                                        -0.263947   \n",
       " 25858                                        -0.219292   \n",
       " \n",
       "        Nuclei_Texture_SumVariance_PM_3_01_256  \n",
       " 0                                   -0.309825  \n",
       " 1                                   -0.183663  \n",
       " 2                                   -0.316161  \n",
       " 3                                   -0.212531  \n",
       " 4                                   -0.349236  \n",
       " ...                                       ...  \n",
       " 25854                                0.014744  \n",
       " 25855                                0.786085  \n",
       " 25856                               -0.272007  \n",
       " 25857                               -0.317046  \n",
       " 25858                               -0.310436  \n",
       " \n",
       " [25859 rows x 587 columns]}"
      ]
     },
     "execution_count": 9,
     "metadata": {},
     "output_type": "execute_result"
    }
   ],
   "source": [
    "cp_dfs"
   ]
  },
  {
   "cell_type": "markdown",
   "id": "8838a423",
   "metadata": {},
   "source": [
    "### Fit UMAP for whole plates"
   ]
  },
  {
   "cell_type": "code",
   "execution_count": 10,
   "id": "3e20a76d-e486-4fe4-ab87-70d3cf8d3502",
   "metadata": {},
   "outputs": [
    {
     "name": "stderr",
     "output_type": "stream",
     "text": [
      "/home/jenna/mambaforge/envs/python_analysis_cfret/lib/python3.9/site-packages/umap/umap_.py:1945: UserWarning: n_jobs value 1 overridden to 1 by setting random_state. Use no seed for parallelism.\n",
      "  warn(f\"n_jobs value {self.n_jobs} overridden to 1 by setting random_state. Use no seed for parallelism.\")\n"
     ]
    },
    {
     "name": "stdout",
     "output_type": "stream",
     "text": [
      "(25859, 2)\n"
     ]
    }
   ],
   "source": [
    "# Fit UMAP features per dataset and save\n",
    "for plate in cp_dfs:\n",
    "    # Set plate name\n",
    "    plate_name = pathlib.Path(plate).stem\n",
    "    # Set output file for the UMAP\n",
    "    output_umap_file = pathlib.Path(output_dir, f\"UMAP_{plate_name}_no_QC.tsv.gz\")\n",
    "\n",
    "    # # Check if the output file already exists\n",
    "    # if output_umap_file.exists():\n",
    "    #     print(f\"Skipping {output_umap_file.stem} as it already exists.\")\n",
    "    #     continue\n",
    "\n",
    "    # Make sure to reinitialize UMAP instance per plate\n",
    "    umap_fit = umap.UMAP(\n",
    "        random_state=umap_random_seed,\n",
    "        n_components=umap_n_components\n",
    "    )\n",
    "    \n",
    "    # Remove NA columns\n",
    "    cp_df = cp_dfs[plate]\n",
    "    cp_df = feature_select(\n",
    "        cp_df,\n",
    "        operation=\"drop_na_columns\",\n",
    "        na_cutoff=0\n",
    "    )\n",
    "    \n",
    "    # Process cp_df to separate features and metadata\n",
    "    cp_features = infer_cp_features(cp_df)\n",
    "    meta_features = infer_cp_features(cp_df, metadata=True)\n",
    "    \n",
    "    # Fit UMAP and convert to pandas DataFrame\n",
    "    embeddings = pd.DataFrame(\n",
    "        umap_fit.fit_transform(cp_df.loc[:, cp_features]),\n",
    "        columns=[f\"UMAP{x}\" for x in range(0, umap_n_components)]\n",
    "    )\n",
    "    print(embeddings.shape)\n",
    "    \n",
    "    # Combine with metadata\n",
    "    cp_umap_with_metadata_df = pd.concat([\n",
    "        cp_df.loc[:, meta_features],\n",
    "        embeddings\n",
    "    ], axis=1)\n",
    "    \n",
    "    # Generate output file, drop unnamed column, and save \n",
    "    cp_umap_with_metadata_df.to_csv(output_umap_file, index=False, sep=\"\\t\")\n",
    "\n",
    "    # Print an example output file\n",
    "    cp_umap_with_metadata_df.head()"
   ]
  },
  {
   "cell_type": "markdown",
   "id": "49874858",
   "metadata": {},
   "source": [
    "## Generate embeddings for filtered data\n",
    "\n",
    "Note: We are filtering out single-cells from plates 3 and 4 where there is more than 1 single-cell adjacent. We are looking to see the impact on the UMAP when only including \"isolated\" single-cells."
   ]
  },
  {
   "cell_type": "code",
   "execution_count": 7,
   "id": "6d6865f7",
   "metadata": {},
   "outputs": [
    {
     "name": "stdout",
     "output_type": "stream",
     "text": [
      "['localhost230405150001', 'localhost220512140003_KK22-05-198', 'localhost231120090001', 'localhost220513100001_KK22-05-198_FactinAdjusted', 'localhost240201110001']\n"
     ]
    }
   ],
   "source": [
    "# Set random seed as 0 for filtered datasets\n",
    "filtered_umap_random_seed = 0\n",
    "\n",
    "# Select only the feature selected files\n",
    "file_suffix = \"*sc_annotated.parquet\"\n",
    "\n",
    "# Obtain file paths for all annotated plates (contains neighbors data)\n",
    "annot_files = glob.glob(f\"{data_dir}/{file_suffix}\")\n",
    "\n",
    "plate_names = []\n",
    "\n",
    "for file_path in pathlib.Path(\"../../../0.download_data/Images\").iterdir():\n",
    "    plate_names.append(str(file_path.stem))\n",
    "\n",
    "print(plate_names)"
   ]
  },
  {
   "cell_type": "code",
   "execution_count": 8,
   "id": "b0509049",
   "metadata": {},
   "outputs": [
    {
     "name": "stdout",
     "output_type": "stream",
     "text": [
      "dict_keys(['localhost230405150001', 'localhost231120090001'])\n",
      "The shapes of the feature selected data frames are: [(20865, 676), (16860, 644)]\n",
      "The shapes of the annotated data frames are: [(20865, 2023), (16860, 2023)]\n"
     ]
    }
   ],
   "source": [
    "# create plate info dictionary\n",
    "plate_info_dictionary = {\n",
    "    name: {\n",
    "        \"fs_data\": pd.read_parquet(\n",
    "            pathlib.Path(\n",
    "                list(data_dir.rglob(f\"{name}_sc_feature_selected.parquet\"))[0]\n",
    "            ).resolve(strict=True)\n",
    "        ),\n",
    "        \"annot_data\": pd.read_parquet(\n",
    "            pathlib.Path(\n",
    "                list(data_dir.rglob(f\"{name}_sc_annotated.parquet\"))[0]\n",
    "            ).resolve(strict=True)\n",
    "        ),\n",
    "    }\n",
    "    for name in plate_names\n",
    "    if name == \"localhost230405150001\" or name == \"localhost231120090001\"\n",
    "}\n",
    "\n",
    "# view the dictionary info to assess that all info is added correctly\n",
    "print(plate_info_dictionary.keys())\n",
    "print(\n",
    "    \"The shapes of the feature selected data frames are:\",\n",
    "    [plate_info_dictionary[x][\"fs_data\"].shape for x in plate_info_dictionary],\n",
    ")\n",
    "print(\n",
    "    \"The shapes of the annotated data frames are:\",\n",
    "    [plate_info_dictionary[x][\"annot_data\"].shape for x in plate_info_dictionary],\n",
    ")"
   ]
  },
  {
   "cell_type": "code",
   "execution_count": 9,
   "id": "d93bc951",
   "metadata": {},
   "outputs": [
    {
     "name": "stderr",
     "output_type": "stream",
     "text": [
      "/home/jenna/mambaforge/envs/python_analysis_cfret/lib/python3.9/site-packages/umap/umap_.py:1945: UserWarning: n_jobs value 1 overridden to 1 by setting random_state. Use no seed for parallelism.\n",
      "  warn(f\"n_jobs value {self.n_jobs} overridden to 1 by setting random_state. Use no seed for parallelism.\")\n"
     ]
    },
    {
     "name": "stdout",
     "output_type": "stream",
     "text": [
      "(1638, 2)\n"
     ]
    },
    {
     "name": "stderr",
     "output_type": "stream",
     "text": [
      "/home/jenna/mambaforge/envs/python_analysis_cfret/lib/python3.9/site-packages/umap/umap_.py:1945: UserWarning: n_jobs value 1 overridden to 1 by setting random_state. Use no seed for parallelism.\n",
      "  warn(f\"n_jobs value {self.n_jobs} overridden to 1 by setting random_state. Use no seed for parallelism.\")\n"
     ]
    },
    {
     "name": "stdout",
     "output_type": "stream",
     "text": [
      "(2417, 2)\n"
     ]
    }
   ],
   "source": [
    "for plate, info in plate_info_dictionary.items():\n",
    "    # Set output file for the UMAP\n",
    "    output_umap_file = pathlib.Path(output_dir, f\"UMAP_{plate}_fs_filtered.tsv.gz\")\n",
    "\n",
    "    # # Check if the output file already exists\n",
    "    # if output_umap_file.exists():\n",
    "    #     print(f\"Skipping {output_umap_file.stem} as it already exists.\")\n",
    "    #     continue\n",
    "\n",
    "    # Give variable names to data frames\n",
    "    fs_df = info[\"fs_data\"]\n",
    "    annot_df = info[\"annot_data\"]\n",
    "\n",
    "    # Merging neighbor column onto fs_df from annot_df\n",
    "    fs_df = fs_df.merge(\n",
    "        annot_df[[\n",
    "            \"Metadata_Well\", \"Metadata_Site\", \"Metadata_Nuclei_Number_Object_Number\", \"Cells_Neighbors_NumberOfNeighbors_Adjacent\"\n",
    "        ]],\n",
    "        on=[\"Metadata_Well\", \"Metadata_Site\", \"Metadata_Nuclei_Number_Object_Number\"],\n",
    "        how=\"inner\",\n",
    "    )\n",
    "\n",
    "    # Rename neighbors column to include as metadata\n",
    "    fs_df = fs_df.rename(columns={\"Cells_Neighbors_NumberOfNeighbors_Adjacent\": \"Metadata_Neighbors_Adjacent\"})\n",
    "\n",
    "    # Only including rows where Metadata_Neighbors_Adjacent is less than or equal to 1 neighbor\n",
    "    filtered_fs_df = fs_df[fs_df['Metadata_Neighbors_Adjacent'] <= 1]\n",
    "\n",
    "    # Reset index to avoid any issues with concat\n",
    "    filtered_fs_df.reset_index(drop=True, inplace=True)\n",
    "\n",
    "    # Make sure to reinitialize UMAP instance per plate (uses random seed 0 and same umap components as above)\n",
    "    umap_fit = umap.UMAP(\n",
    "        random_state=filtered_umap_random_seed,\n",
    "        n_components=umap_n_components\n",
    "    )\n",
    "\n",
    "    # Remove NA columns\n",
    "    filtered_fs_df = feature_select(\n",
    "        filtered_fs_df,\n",
    "        operation=\"drop_na_columns\",\n",
    "        na_cutoff=0\n",
    "    )\n",
    "    \n",
    "    # Process filtered_fs_df to separate features and metadata\n",
    "    cp_features = infer_cp_features(filtered_fs_df)\n",
    "    meta_features = infer_cp_features(filtered_fs_df, metadata=True)\n",
    "    \n",
    "    # Fit UMAP and convert to pandas DataFrame\n",
    "    embeddings = pd.DataFrame(\n",
    "        umap_fit.fit_transform(filtered_fs_df.loc[:, cp_features]),\n",
    "        columns=[f\"UMAP{x}\" for x in range(0, umap_n_components)]\n",
    "    )\n",
    "    print(embeddings.shape)\n",
    "    \n",
    "    # Combine with metadata\n",
    "    filtered_umap_with_metadata_df = pd.concat([\n",
    "        filtered_fs_df.loc[:, meta_features],\n",
    "        embeddings\n",
    "    ], axis=1)\n",
    "    \n",
    "    # Generate output file, drop unnamed column, and save \n",
    "    filtered_umap_with_metadata_df.to_csv(output_umap_file, index=False, sep=\"\\t\")\n",
    "\n",
    "    # Print an example output file\n",
    "    filtered_umap_with_metadata_df.head()"
   ]
  }
 ],
 "metadata": {
  "kernelspec": {
   "display_name": "Python 3",
   "language": "python",
   "name": "python3"
  },
  "language_info": {
   "codemirror_mode": {
    "name": "ipython",
    "version": 3
   },
   "file_extension": ".py",
   "mimetype": "text/x-python",
   "name": "python",
   "nbconvert_exporter": "python",
   "pygments_lexer": "ipython3",
   "version": "3.9.12"
  }
 },
 "nbformat": 4,
 "nbformat_minor": 5
}
